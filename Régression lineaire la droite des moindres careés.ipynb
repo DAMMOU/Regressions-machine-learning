{
 "cells": [
  {
   "cell_type": "markdown",
   "id": "noble-feature",
   "metadata": {},
   "source": [
    "# La droite des mondres carrées"
   ]
  },
  {
   "cell_type": "code",
   "execution_count": 1,
   "id": "editorial-bidder",
   "metadata": {},
   "outputs": [],
   "source": [
    "import numpy as np\n",
    "import matplotlib.pyplot as plt\n",
    "import random"
   ]
  },
  {
   "cell_type": "code",
   "execution_count": 2,
   "id": "black-steam",
   "metadata": {},
   "outputs": [],
   "source": [
    "# Ici on définit toutes les fonctions dont on besoin\n",
    "def f(x):\n",
    "    return 2*x+2\n",
    "f=np.vectorize(f)\n",
    "\n",
    "def moyenne(x):\n",
    "    # Calcule la moyenne d'un vecteur\n",
    "    n = len(x)\n",
    "    z = sum(x)/n\n",
    "    return z\n",
    "\n",
    "def cov(x,y):  \n",
    "    # Calcule la covariance de deux vecteurs\n",
    "    n = len(x)\n",
    "    z = np.dot(x,y)/n-moyenne(x)*moyenne(y)\n",
    "    return z\n",
    "\n",
    "def var(x):\n",
    "    # Calcule la variance d'un vecteur\n",
    "    return cov(x,x)\n",
    "\n",
    "def WeightCoef(xi,yi):\n",
    "    xbar = moyenne(xi)\n",
    "    ybar = moyenne(yi)\n",
    "    w1 = cov(xi,yi)/var(xi) \n",
    "    w0 = ybar-w1*xbar\n",
    "    w =[w0,w1]\n",
    "    return w\n",
    "\n",
    "def f_prediction(x,w): # def de La droite des moindres carrées  \n",
    "    return w[1]*x+w[0]"
   ]
  },
  {
   "cell_type": "code",
   "execution_count": 3,
   "id": "better-attempt",
   "metadata": {},
   "outputs": [
    {
     "name": "stdout",
     "output_type": "stream",
     "text": [
      "Pour x=1.75 Erreur est de =0.67 %\n"
     ]
    },
    {
     "data": {
      "image/png": "[encoded data removed]",
      "text/plain": [
       "<Figure size 432x288 with 1 Axes>"
      ]
     },
     "metadata": {
      "needs_background": "light"
     },
     "output_type": "display_data"
    }
   ],
   "source": [
    "alpha0= 1.5\n",
    "xmin = -5.\n",
    "xmax = 5.\n",
    "\n",
    "n = 20\n",
    "pas=(xmax-xmin)/(n-1)\n",
    "xi=[xmin+i*pas for i in range(n)]\n",
    "yi=[f(t)+2*random.random()*alpha0-alpha0 for t in xi]\n",
    "plt.scatter(xi,yi,color='r',linewidth=2)\n",
    "\n",
    "\n",
    "w = WeightCoef(xi,yi)\n",
    "\n",
    "\n",
    "hx=(xmax-xmin)/200\n",
    "x = np.linspace(xmin,xmax,2)\n",
    "y = f_prediction(x,w)  # l'équation de la droite des mondres carrées\n",
    "\n",
    "plt.plot(x,y,color='b',linewidth=2)\n",
    "\n",
    "\n",
    "x = 1.75\n",
    "yp = f_prediction(x,w)\n",
    "yf =f(x)\n",
    "erreur =np.abs(yp-yf)/np.abs(yf)*100;\n",
    "print('Pour x=%1.2f'%x,'Erreur est de =%2.2f'%erreur,'%')\n",
    "plt.scatter(x,yf,color='b',linewidth=3)\n",
    "plt.scatter(x,yp,color='k',linewidth=3)\n",
    "\n",
    "plt.show()"
   ]
  },
  {
   "cell_type": "code",
   "execution_count": null,
   "id": "imperial-progressive",
   "metadata": {},
   "outputs": [],
   "source": []
  },
  {
   "cell_type": "code",
   "execution_count": null,
   "id": "1e1c9090",
   "metadata": {},
   "outputs": [],
   "source": []
  }
 ],
 "metadata": {
  "kernelspec": {
   "display_name": "Python 3",
   "language": "python",
   "name": "python3"
  },
  "language_info": {
   "codemirror_mode": {
    "name": "ipython",
    "version": 3
   },
   "file_extension": ".py",
   "mimetype": "text/x-python",
   "name": "python",
   "nbconvert_exporter": "python",
   "pygments_lexer": "ipython3",
   "version": "3.8.8"
  }
 },
 "nbformat": 4,
 "nbformat_minor": 5
}
